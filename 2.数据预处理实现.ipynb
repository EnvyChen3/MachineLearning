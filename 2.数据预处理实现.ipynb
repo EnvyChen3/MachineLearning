{
 "cells": [
  {
   "cell_type": "markdown",
   "id": "9fc2f9bf",
   "metadata": {},
   "source": [
    "### 数据预处理\n",
    "#### 创建一个人工数据集，并储存在csv（逗号分隔值）文件"
   ]
  },
  {
   "cell_type": "code",
   "execution_count": 1,
   "id": "769f701a",
   "metadata": {},
   "outputs": [],
   "source": [
    "import os\n",
    "\n",
    "os.makedirs(os.path.join('..', 'data'), exist_ok=True)\n",
    "data_file = os.path.join('..', 'data', 'housing_tiny.csv')\n",
    "with open(data_file, 'w') as f:\n",
    "    f.write('NumRooms, Alley, Price\\n')    # 列名\n",
    "    f.write('NA, Pave, 127500\\n')    # 每行表示一个数据样本\n",
    "    f.write('2, NA, 106000\\n')\n",
    "    f.write('4, NA, 178100\\n')\n",
    "    f.write('NA, NA, 140000\\n')"
   ]
  },
  {
   "cell_type": "markdown",
   "id": "90efb86f",
   "metadata": {},
   "source": [
    "#### 从创建的csv文件中加载原始数据集"
   ]
  },
  {
   "cell_type": "code",
   "execution_count": 2,
   "id": "5d6eb9ad",
   "metadata": {},
   "outputs": [
    {
     "name": "stdout",
     "output_type": "stream",
     "text": [
      "   NumRooms  Alley   Price\n",
      "0       NaN   Pave  127500\n",
      "1       2.0     NA  106000\n",
      "2       4.0     NA  178100\n",
      "3       NaN     NA  140000\n"
     ]
    }
   ],
   "source": [
    "import pandas as pd\n",
    "\n",
    "data = pd.read_csv(data_file)\n",
    "print(data)"
   ]
  },
  {
   "cell_type": "markdown",
   "id": "ac38a8a4",
   "metadata": {},
   "source": [
    "#### 为了处理缺失的数据，典型的方法包括_插值_ 和_删除_ ，这里，我们将考虑插值"
   ]
  },
  {
   "cell_type": "code",
   "execution_count": 3,
   "id": "59ab9d57",
   "metadata": {},
   "outputs": [
    {
     "name": "stdout",
     "output_type": "stream",
     "text": [
      "   NumRooms  Alley\n",
      "0       3.0   Pave\n",
      "1       2.0     NA\n",
      "2       4.0     NA\n",
      "3       3.0     NA\n"
     ]
    }
   ],
   "source": [
    "inputs , outputs = data.iloc[:, 0:2], data.iloc[:, 2]\n",
    "inputs = inputs.fillna(inputs.mean())    # fillna()方法将na值填充为其他数值的均值\n",
    "print(inputs)"
   ]
  },
  {
   "cell_type": "markdown",
   "id": "ec1d7587",
   "metadata": {},
   "source": [
    "#### 对于`inputs`中的类别值或离散值，我们将“NA”视为一个类别"
   ]
  },
  {
   "cell_type": "code",
   "execution_count": 7,
   "id": "4b6a865e",
   "metadata": {},
   "outputs": [
    {
     "name": "stdout",
     "output_type": "stream",
     "text": [
      "   NumRooms   Alley_ NA   Alley_ Pave   Alley_nan\n",
      "0       3.0           0             1           0\n",
      "1       2.0           1             0           0\n",
      "2       4.0           1             0           0\n",
      "3       3.0           1             0           0\n"
     ]
    }
   ],
   "source": [
    "inputs = pd.get_dummies(inputs, dummy_na=True)\n",
    "print(inputs)"
   ]
  },
  {
   "cell_type": "markdown",
   "id": "4eb2ea5c",
   "metadata": {},
   "source": [
    "#### 现在`inputs`和`outputs`中所有条目都是数值类型，它们可以转换成张量格式"
   ]
  },
  {
   "cell_type": "code",
   "execution_count": 9,
   "id": "9964d31e",
   "metadata": {},
   "outputs": [
    {
     "data": {
      "text/plain": [
       "(tensor([[3., 0., 1., 0.],\n",
       "         [2., 1., 0., 0.],\n",
       "         [4., 1., 0., 0.],\n",
       "         [3., 1., 0., 0.]], dtype=torch.float64),\n",
       " tensor([127500, 106000, 178100, 140000]))"
      ]
     },
     "execution_count": 9,
     "metadata": {},
     "output_type": "execute_result"
    }
   ],
   "source": [
    "import torch\n",
    "\n",
    "x, y = torch.tensor(inputs.values), torch.tensor(outputs.values)\n",
    "x, y"
   ]
  },
  {
   "cell_type": "code",
   "execution_count": null,
   "id": "6017198e",
   "metadata": {},
   "outputs": [],
   "source": []
  }
 ],
 "metadata": {
  "kernelspec": {
   "display_name": "Python 3 (ipykernel)",
   "language": "python",
   "name": "python3"
  },
  "language_info": {
   "codemirror_mode": {
    "name": "ipython",
    "version": 3
   },
   "file_extension": ".py",
   "mimetype": "text/x-python",
   "name": "python",
   "nbconvert_exporter": "python",
   "pygments_lexer": "ipython3",
   "version": "3.9.7"
  }
 },
 "nbformat": 4,
 "nbformat_minor": 5
}
