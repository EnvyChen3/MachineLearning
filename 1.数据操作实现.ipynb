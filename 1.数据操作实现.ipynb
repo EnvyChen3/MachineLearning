{
 "cells": [
  {
   "cell_type": "code",
   "execution_count": null,
   "id": "2986afe6",
   "metadata": {},
   "outputs": [],
   "source": [
    "import torch"
   ]
  },
  {
   "cell_type": "code",
   "execution_count": null,
   "id": "3b433f15",
   "metadata": {},
   "outputs": [],
   "source": [
    "x = torch.arange(12)\n",
    "x"
   ]
  },
  {
   "cell_type": "code",
   "execution_count": null,
   "id": "883742fa",
   "metadata": {},
   "outputs": [],
   "source": [
    "x.shape"
   ]
  },
  {
   "cell_type": "code",
   "execution_count": null,
   "id": "a74d383e",
   "metadata": {},
   "outputs": [],
   "source": [
    "x.numel()"
   ]
  },
  {
   "cell_type": "code",
   "execution_count": null,
   "id": "f0a60fe2",
   "metadata": {},
   "outputs": [],
   "source": [
    "x = x.reshape(3, 4)\n",
    "x"
   ]
  },
  {
   "cell_type": "code",
   "execution_count": null,
   "id": "2ab9ba81",
   "metadata": {},
   "outputs": [],
   "source": [
    "torch.zeros((2, 3, 4))"
   ]
  },
  {
   "cell_type": "code",
   "execution_count": null,
   "id": "0872c536",
   "metadata": {},
   "outputs": [],
   "source": [
    "torch.ones((2, 3, 4))"
   ]
  },
  {
   "cell_type": "code",
   "execution_count": null,
   "id": "90af06db",
   "metadata": {},
   "outputs": [],
   "source": [
    "torch.tensor([[[2, 1, 3, 4], [1, 2, 3, 4], [4, 3, 2, 1]]]).shape"
   ]
  },
  {
   "cell_type": "code",
   "execution_count": null,
   "id": "7bfde7ec",
   "metadata": {},
   "outputs": [],
   "source": [
    "x = torch.tensor([1., 2, 4, 8])\n",
    "y = torch.tensor([2, 2, 2, 2])\n",
    "x + y, x - y, x * y, x/y, x**y"
   ]
  },
  {
   "cell_type": "markdown",
   "id": "aba40be7",
   "metadata": {},
   "source": [
    "### 我们可以把多个张量连结在一起"
   ]
  },
  {
   "cell_type": "code",
   "execution_count": null,
   "id": "c478f7c5",
   "metadata": {},
   "outputs": [],
   "source": [
    "X = torch.arange(12, dtype=torch.float32).reshape((3, 4))\n",
    "Y = torch.tensor([[2., 1, 4, 3], [1, 2, 3, 4], [4, 3, 2, 1]])\n",
    "torch.cat((X, Y), dim=0), torch.cat((X, Y), dim=1)"
   ]
  },
  {
   "cell_type": "code",
   "execution_count": null,
   "id": "a7d74256",
   "metadata": {},
   "outputs": [],
   "source": [
    "X[-1, 2]"
   ]
  },
  {
   "cell_type": "code",
   "execution_count": null,
   "id": "0d335df4",
   "metadata": {},
   "outputs": [],
   "source": [
    "X[-1, 2] = 0\n",
    "X"
   ]
  },
  {
   "cell_type": "code",
   "execution_count": null,
   "id": "42100875",
   "metadata": {},
   "outputs": [],
   "source": [
    "X[0:2, :] = 0\n",
    "X"
   ]
  },
  {
   "cell_type": "markdown",
   "id": "864834c3",
   "metadata": {},
   "source": [
    "### 通过逻辑运算符构建二元张量"
   ]
  },
  {
   "cell_type": "code",
   "execution_count": null,
   "id": "965abda1",
   "metadata": {},
   "outputs": [],
   "source": [
    "X == Y"
   ]
  },
  {
   "cell_type": "code",
   "execution_count": null,
   "id": "cb2ba484",
   "metadata": {},
   "outputs": [],
   "source": [
    "X.sum()"
   ]
  },
  {
   "cell_type": "markdown",
   "id": "fac00d90",
   "metadata": {},
   "source": [
    "### 即使形状不同，我们仍然可以通过调用调用广播机制来执行按元素操作!"
   ]
  },
  {
   "cell_type": "code",
   "execution_count": null,
   "id": "c06b6d6a",
   "metadata": {},
   "outputs": [],
   "source": [
    "# 广播机制会将a， b扩充成（3， 2）的张量然后按元素相加\n",
    "a = torch.arange(3).reshape((3, 1))\n",
    "b = torch.arange(2).reshape((1, 2))\n",
    "a + b"
   ]
  }
 ],
 "metadata": {
  "kernelspec": {
   "display_name": "Python 3 (ipykernel)",
   "language": "python",
   "name": "python3"
  },
  "language_info": {
   "codemirror_mode": {
    "name": "ipython",
    "version": 3
   },
   "file_extension": ".py",
   "mimetype": "text/x-python",
   "name": "python",
   "nbconvert_exporter": "python",
   "pygments_lexer": "ipython3",
   "version": "3.9.7"
  }
 },
 "nbformat": 4,
 "nbformat_minor": 5
}
