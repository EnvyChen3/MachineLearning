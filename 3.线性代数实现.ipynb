{
 "cells": [
  {
   "cell_type": "code",
   "execution_count": null,
   "id": "a7e7cb09",
   "metadata": {},
   "outputs": [],
   "source": [
    "import torch"
   ]
  },
  {
   "cell_type": "code",
   "execution_count": null,
   "id": "0788430f",
   "metadata": {},
   "outputs": [],
   "source": [
    "A = torch.arange(20).reshape(5, 4)\n",
    "A"
   ]
  },
  {
   "cell_type": "code",
   "execution_count": null,
   "id": "2d024515",
   "metadata": {},
   "outputs": [],
   "source": [
    "A.T"
   ]
  },
  {
   "cell_type": "markdown",
   "id": "34abf776",
   "metadata": {},
   "source": [
    "### 给定相同形状的任何两个张量，任何按元素二元运算的结果都将是相同形状的张量"
   ]
  },
  {
   "cell_type": "code",
   "execution_count": null,
   "id": "79c8d17e",
   "metadata": {},
   "outputs": [],
   "source": [
    "A = torch.arange(20, dtype=torch.float32).reshape(5, 4)\n",
    "B = A.clone()    # 通过分配新的内存，将A 的一个副本分配给B\n",
    "A, A + B"
   ]
  },
  {
   "cell_type": "markdown",
   "id": "f7e241c2",
   "metadata": {},
   "source": [
    "### 指定求和汇总张量的轴"
   ]
  },
  {
   "cell_type": "code",
   "execution_count": null,
   "id": "be0882c6",
   "metadata": {},
   "outputs": [],
   "source": [
    "A = torch.arange(20*2, dtype=torch.float32).reshape(2, 5, 4)\n",
    "A, A.shape, A.sum()"
   ]
  },
  {
   "cell_type": "code",
   "execution_count": null,
   "id": "8cda9b6b",
   "metadata": {},
   "outputs": [],
   "source": [
    "A_sum_axis0 = A.sum(axis=0)\n",
    "A_sum_axis0, A_sum_axis0.shape"
   ]
  },
  {
   "cell_type": "code",
   "execution_count": null,
   "id": "cfdaeb76",
   "metadata": {},
   "outputs": [],
   "source": [
    "A_sum_axis1 = A.sum(axis=1)\n",
    "A_sum_axis1, A_sum_axis1.shape"
   ]
  },
  {
   "cell_type": "code",
   "execution_count": null,
   "id": "f3d0b728",
   "metadata": {},
   "outputs": [],
   "source": [
    "A.sum(axis=[0, 1])"
   ]
  },
  {
   "cell_type": "markdown",
   "id": "140e8213",
   "metadata": {},
   "source": [
    "### 求*平均值*"
   ]
  },
  {
   "cell_type": "code",
   "execution_count": null,
   "id": "0f41d0fd",
   "metadata": {},
   "outputs": [],
   "source": [
    "A.mean(), A.sum()/A.numel()"
   ]
  },
  {
   "cell_type": "code",
   "execution_count": null,
   "id": "9d9d04aa",
   "metadata": {},
   "outputs": [],
   "source": [
    "A.mean(axis=0), A.sum(axis=0)/A.shape[0]"
   ]
  },
  {
   "cell_type": "markdown",
   "id": "dbf52337",
   "metadata": {},
   "source": [
    "### 计算总和或均值时保持轴数不变"
   ]
  },
  {
   "cell_type": "code",
   "execution_count": null,
   "id": "0c5f3155",
   "metadata": {},
   "outputs": [],
   "source": [
    "sum_A = A.sum(axis=0, keepdims=True)\n",
    "sum_A"
   ]
  },
  {
   "cell_type": "markdown",
   "id": "35cbdb99",
   "metadata": {},
   "source": [
    "### 保持轴数不变就可以通过广播机制将`A`除以`sum_A`"
   ]
  },
  {
   "cell_type": "code",
   "execution_count": null,
   "id": "549be759",
   "metadata": {},
   "outputs": [],
   "source": [
    "A/sum_A"
   ]
  },
  {
   "cell_type": "markdown",
   "id": "7972eaf9",
   "metadata": {},
   "source": [
    "### 某个轴计算`A`元素的累加和"
   ]
  },
  {
   "cell_type": "code",
   "execution_count": null,
   "id": "6affd155",
   "metadata": {},
   "outputs": [],
   "source": [
    "A.cumsum(axis=0)"
   ]
  },
  {
   "cell_type": "markdown",
   "id": "29dfcd8a",
   "metadata": {},
   "source": [
    "### 点积是相同位置的按元素乘积的和"
   ]
  },
  {
   "cell_type": "code",
   "execution_count": null,
   "id": "900c6389",
   "metadata": {},
   "outputs": [],
   "source": [
    "x = torch.arange(4, dtype=torch.float32)\n",
    "y = torch.ones(4)\n",
    "x, y, torch.dot(x, y)"
   ]
  },
  {
   "cell_type": "markdown",
   "id": "c91cd917",
   "metadata": {},
   "source": [
    "### 也可以通过按元素乘法然后求和来表示两个向量的点积"
   ]
  },
  {
   "cell_type": "code",
   "execution_count": null,
   "id": "04da8962",
   "metadata": {},
   "outputs": [],
   "source": [
    "torch.sum(x * y)"
   ]
  },
  {
   "cell_type": "markdown",
   "id": "f2c2bda4",
   "metadata": {},
   "source": [
    "### 矩阵和向量的乘积"
   ]
  },
  {
   "cell_type": "code",
   "execution_count": null,
   "id": "5eadf471",
   "metadata": {},
   "outputs": [],
   "source": [
    "A = torch.arange(20, dtype=torch.float32).reshape(5, 4)\n",
    "A.shape, x.shape, torch.mv(A, x)"
   ]
  },
  {
   "cell_type": "markdown",
   "id": "0c5ca6fa",
   "metadata": {},
   "source": [
    "### 矩阵和矩阵的乘积"
   ]
  },
  {
   "cell_type": "code",
   "execution_count": null,
   "id": "d3b6bb7b",
   "metadata": {},
   "outputs": [],
   "source": [
    "B = torch.ones(4, 3)\n",
    "torch.mm(A, B)"
   ]
  },
  {
   "cell_type": "markdown",
   "id": "f988cec0",
   "metadata": {},
   "source": [
    "### *L2范数* 是向量元素平方和的平方根"
   ]
  },
  {
   "cell_type": "code",
   "execution_count": null,
   "id": "6c60e473",
   "metadata": {},
   "outputs": [],
   "source": [
    "u = torch.tensor([3.0, -4.0])\n",
    "torch.norm(u)"
   ]
  },
  {
   "cell_type": "markdown",
   "id": "62d64785",
   "metadata": {},
   "source": [
    "### *L1范数* ，表示为向量元素的绝对值之和"
   ]
  },
  {
   "cell_type": "code",
   "execution_count": null,
   "id": "2ce2852a",
   "metadata": {},
   "outputs": [],
   "source": [
    "torch.abs(u).sum()"
   ]
  },
  {
   "cell_type": "markdown",
   "id": "2d4ce109",
   "metadata": {},
   "source": [
    "### 矩阵的*Frobenius范数* 是矩阵元素的平方和的平方根"
   ]
  },
  {
   "cell_type": "code",
   "execution_count": null,
   "id": "0e2c5e3d",
   "metadata": {},
   "outputs": [],
   "source": [
    "torch.norm(torch.ones(4, 9))"
   ]
  }
 ],
 "metadata": {
  "kernelspec": {
   "display_name": "Python 3 (ipykernel)",
   "language": "python",
   "name": "python3"
  },
  "language_info": {
   "codemirror_mode": {
    "name": "ipython",
    "version": 3
   },
   "file_extension": ".py",
   "mimetype": "text/x-python",
   "name": "python",
   "nbconvert_exporter": "python",
   "pygments_lexer": "ipython3",
   "version": "3.9.7"
  }
 },
 "nbformat": 4,
 "nbformat_minor": 5
}
